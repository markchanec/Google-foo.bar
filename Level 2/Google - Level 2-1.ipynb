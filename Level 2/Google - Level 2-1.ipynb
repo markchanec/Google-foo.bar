{
 "cells": [
  {
   "cell_type": "code",
   "execution_count": 1,
   "id": "d97b6a8c",
   "metadata": {
    "ExecuteTime": {
     "end_time": "2022-01-23T13:58:28.578401Z",
     "start_time": "2022-01-23T13:58:28.524572Z"
    }
   },
   "outputs": [],
   "source": [
    "#level 2 challenge 1 power hungry\n",
    "from functools import reduce\n",
    "import operator\n",
    "\n",
    "def solution(xs):\n",
    "    if len(xs) == 1: #test case 4\n",
    "        return str(xs[0])\n",
    "    negatives = [num for num in xs if num < 0]\n",
    "    positives = [num for num in xs if num > 0]\n",
    "\n",
    "    if len(positives) == 0 and len(negatives) == 0:\n",
    "        return '0'\n",
    "    elif len(positives) == 0 and len(negatives) == 1:\n",
    "        return '0' #test case 5\n",
    "    elif len(positives) == 1 and len(negatives) == 0:\n",
    "        return str(positives[0]) \n",
    "    elif len(positives) == 1 and len(negatives) == 1:\n",
    "        return str(positives[0])\n",
    "    else:\n",
    "        if len(negatives) % 2 != 0:\n",
    "            negatives.remove(max(negatives))\n",
    "        product = reduce(operator.mul, positives + negatives, 1)\n",
    "        return str(product)\n",
    "\n",
    "    #len(xs) == 0\n",
    "    return '0'"
   ]
  },
  {
   "cell_type": "code",
   "execution_count": 2,
   "id": "b1c42bed",
   "metadata": {
    "ExecuteTime": {
     "end_time": "2022-01-23T13:58:31.001095Z",
     "start_time": "2022-01-23T13:58:30.990353Z"
    }
   },
   "outputs": [
    {
     "name": "stdout",
     "output_type": "stream",
     "text": [
      "0\n",
      "0\n",
      "-2\n",
      "3\n",
      "3\n",
      "-2\n"
     ]
    }
   ],
   "source": [
    "print(solution([]) )\n",
    "print(solution([0]) )\n",
    "print(solution([-2]) ) #-2\n",
    "print(solution([3]) ) #3\n",
    "print(solution([3, 0]) ) #3\n",
    "print(solution([-2, 0]) ) #-2"
   ]
  },
  {
   "cell_type": "code",
   "execution_count": 3,
   "id": "e67b057e",
   "metadata": {
    "ExecuteTime": {
     "end_time": "2022-01-23T13:58:37.590398Z",
     "start_time": "2022-01-23T13:58:37.579303Z"
    }
   },
   "outputs": [
    {
     "name": "stdout",
     "output_type": "stream",
     "text": [
      "30\n",
      "8\n",
      "60\n"
     ]
    }
   ],
   "source": [
    "#1 to 50 intergers per array\n",
    "print(solution([2,-3,1,0,-5])) #eg. 30\n",
    "print(solution([2,0,2,2,0])) #8\n",
    "print(solution([-2,-3,4,-5])) #60"
   ]
  },
  {
   "cell_type": "code",
   "execution_count": 4,
   "id": "1efccbf9",
   "metadata": {
    "ExecuteTime": {
     "end_time": "2022-01-23T13:58:40.609886Z",
     "start_time": "2022-01-23T13:58:40.592454Z"
    }
   },
   "outputs": [
    {
     "name": "stdout",
     "output_type": "stream",
     "text": [
      "2\n",
      "8\n",
      "4\n",
      "4\n"
     ]
    }
   ],
   "source": [
    "print(solution([-2, 2]) ) #2\n",
    "print(solution([-2, 2, -2, -2]) ) #8\n",
    "print(solution([-2,-2]) ) #4\n",
    "print(solution([2, 2]) ) #4"
   ]
  },
  {
   "cell_type": "code",
   "execution_count": 5,
   "id": "7a69085f",
   "metadata": {
    "ExecuteTime": {
     "end_time": "2022-01-23T13:58:42.413180Z",
     "start_time": "2022-01-23T13:58:42.401312Z"
    }
   },
   "outputs": [
    {
     "name": "stdout",
     "output_type": "stream",
     "text": [
      "4\n",
      "8\n"
     ]
    }
   ],
   "source": [
    "print(solution([-2, 2, 2]) ) #4\n",
    "print(solution([-2, -2, 2]) ) #8"
   ]
  },
  {
   "cell_type": "code",
   "execution_count": 6,
   "id": "a66182a9",
   "metadata": {
    "ExecuteTime": {
     "end_time": "2022-01-23T13:58:44.255984Z",
     "start_time": "2022-01-23T13:58:44.247232Z"
    }
   },
   "outputs": [
    {
     "name": "stdout",
     "output_type": "stream",
     "text": [
      "512\n"
     ]
    }
   ],
   "source": [
    "print(solution([-2,-2,-2,0,0,0,-2,-2,-2,-2,0, -2,-2, 2]) ) #512"
   ]
  },
  {
   "cell_type": "code",
   "execution_count": 7,
   "id": "ee855e6a",
   "metadata": {
    "ExecuteTime": {
     "end_time": "2022-01-23T13:58:45.646375Z",
     "start_time": "2022-01-23T13:58:45.620191Z"
    }
   },
   "outputs": [
    {
     "data": {
      "text/plain": [
       "'17179869184'"
      ]
     },
     "execution_count": 7,
     "metadata": {},
     "output_type": "execute_result"
    }
   ],
   "source": [
    "solution([-2,-2,-2,0,0,0,-2,-2,-2,-2,        \n",
    "          -2,-2,-2,0,0,0,-2,-2,-2,-2,       \n",
    "          -2,-2,-2,0,0,0,-2,-2,-2,-2,      \n",
    "          -2,-2,-2,0,0,0,-2,-2,-2,-2,\n",
    "          -2,-2,-2,0,0,0,-2,-2,-2,-2\n",
    "         ]) #17179869184"
   ]
  }
 ],
 "metadata": {
  "hide_input": false,
  "kernelspec": {
   "display_name": "Python 3 (ipykernel)",
   "language": "python",
   "name": "python3"
  },
  "language_info": {
   "codemirror_mode": {
    "name": "ipython",
    "version": 3
   },
   "file_extension": ".py",
   "mimetype": "text/x-python",
   "name": "python",
   "nbconvert_exporter": "python",
   "pygments_lexer": "ipython3",
   "version": "3.10.4"
  },
  "toc": {
   "base_numbering": 1,
   "nav_menu": {},
   "number_sections": true,
   "sideBar": true,
   "skip_h1_title": false,
   "title_cell": "Table of Contents",
   "title_sidebar": "Contents",
   "toc_cell": false,
   "toc_position": {},
   "toc_section_display": true,
   "toc_window_display": false
  }
 },
 "nbformat": 4,
 "nbformat_minor": 5
}
