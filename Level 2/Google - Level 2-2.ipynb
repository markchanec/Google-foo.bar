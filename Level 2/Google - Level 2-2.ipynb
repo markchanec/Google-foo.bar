{
 "cells": [
  {
   "cell_type": "code",
   "execution_count": null,
   "id": "f2a446d4",
   "metadata": {},
   "outputs": [],
   "source": [
    "# level 2 challenge 2\n",
    "# gearing_up_for_destruction"
   ]
  },
  {
   "cell_type": "code",
   "execution_count": 33,
   "id": "1db85b8c",
   "metadata": {
    "ExecuteTime": {
     "end_time": "2022-01-24T14:28:23.812039Z",
     "start_time": "2022-01-24T14:28:23.779131Z"
    }
   },
   "outputs": [
    {
     "data": {
      "text/plain": [
       "[12, 1]"
      ]
     },
     "execution_count": 33,
     "metadata": {},
     "output_type": "execute_result"
    }
   ],
   "source": [
    "import numpy as np\n",
    "from fractions import Fraction\n",
    "\n",
    "def solution(pegs):\n",
    "    size = len(pegs)\n",
    "    \n",
    "    if ((not pegs) or size == 1):\n",
    "        return [-1,-1]\n",
    "    #coefficients\n",
    "    coeffs = []\n",
    "    for i in range(size-1): #num of rows except last row\n",
    "        coeff = np.zeros(size)\n",
    "        #skip last row\n",
    "        if i+1 < size:\n",
    "            coeff[i] = 1\n",
    "            coeff[i+1] = 1\n",
    "        coeffs.append(coeff)\n",
    "    \n",
    "    #last condition is 1st peg twice as big as last peg\n",
    "    last_row = np.zeros(size)\n",
    "    last_row[0] = 1\n",
    "    last_row[size-1] = -2\n",
    "    coeffs.append(last_row)\n",
    "    \n",
    "#     print(np.array(coeffs))\n",
    "    \n",
    "    #dependents\n",
    "    deps = np.zeros(size)\n",
    "    for i in range(size-1): #skip last row which will always be zero\n",
    "        deps[i] = pegs[i+1] - pegs[i]\n",
    "#     print(deps)\n",
    "    \n",
    "    answer = np.linalg.solve(np.array(coeffs), deps)\n",
    "#     print(\"answer = \", answer)\n",
    "    \n",
    "    for ans in answer:\n",
    "        if ans<1: #each gear must have radius >=1\n",
    "            return [-1,-1]\n",
    "    #test case 10\n",
    "    if answer[0]<2:#first gear must be >2 to have double speed and min 1 radius in last gear\n",
    "        return [-1,-1]\n",
    "    \n",
    "    #limit denominator to prevent irrational results from irrational repeating decimal such as 10/3\n",
    "    ret = Fraction(answer[0]).limit_denominator()\n",
    "    return([ret.numerator, ret.denominator])\n",
    "        \n",
    "solution([4,30,50])"
   ]
  },
  {
   "cell_type": "code",
   "execution_count": 34,
   "id": "43d85948",
   "metadata": {
    "ExecuteTime": {
     "end_time": "2022-01-24T14:28:26.945464Z",
     "start_time": "2022-01-24T14:28:26.938485Z"
    }
   },
   "outputs": [
    {
     "name": "stdout",
     "output_type": "stream",
     "text": [
      "[6, 1]\n",
      "[-1, -1]\n"
     ]
    }
   ],
   "source": [
    "print(solution([4,13]))\n",
    "print(solution([4,5]))"
   ]
  },
  {
   "cell_type": "code",
   "execution_count": 35,
   "id": "796aa55e",
   "metadata": {
    "ExecuteTime": {
     "end_time": "2022-01-24T14:28:27.306215Z",
     "start_time": "2022-01-24T14:28:27.296239Z"
    }
   },
   "outputs": [
    {
     "name": "stdout",
     "output_type": "stream",
     "text": [
      "[-1, -1]\n"
     ]
    }
   ],
   "source": [
    "print(solution([1,8,14,57,85,\n",
    "                101,200,350,500,800,\n",
    "                1200,2400, 2560, 4000,\n",
    "                6000, 7000, 8000, 10_000]))"
   ]
  },
  {
   "cell_type": "code",
   "execution_count": 36,
   "id": "0577d5db",
   "metadata": {
    "ExecuteTime": {
     "end_time": "2022-01-24T14:28:28.139213Z",
     "start_time": "2022-01-24T14:28:28.118268Z"
    }
   },
   "outputs": [
    {
     "name": "stdout",
     "output_type": "stream",
     "text": [
      "[100, 3]\n"
     ]
    }
   ],
   "source": [
    "print(solution([1,51]))"
   ]
  },
  {
   "cell_type": "code",
   "execution_count": 37,
   "id": "034ea01c",
   "metadata": {
    "ExecuteTime": {
     "end_time": "2022-01-24T14:28:30.687547Z",
     "start_time": "2022-01-24T14:28:30.677580Z"
    }
   },
   "outputs": [
    {
     "name": "stdout",
     "output_type": "stream",
     "text": [
      "[130, 3]\n"
     ]
    }
   ],
   "source": [
    "print(solution([25,105,145,170]))"
   ]
  },
  {
   "cell_type": "code",
   "execution_count": 38,
   "id": "adea8c12",
   "metadata": {
    "ExecuteTime": {
     "end_time": "2022-01-24T14:28:33.799538Z",
     "start_time": "2022-01-24T14:28:33.783580Z"
    }
   },
   "outputs": [
    {
     "name": "stdout",
     "output_type": "stream",
     "text": [
      "[-1, -1]\n",
      "[-1, -1]\n",
      "[-1, -1]\n"
     ]
    }
   ],
   "source": [
    "print(solution([1,1,1]))\n",
    "print(solution([1, 2, 3, 4, 5, 6]))\n",
    "print(solution([2,3,4,5,6,7,8,9]))"
   ]
  },
  {
   "cell_type": "code",
   "execution_count": null,
   "id": "568cb412",
   "metadata": {},
   "outputs": [],
   "source": []
  }
 ],
 "metadata": {
  "hide_input": false,
  "kernelspec": {
   "display_name": "Python 3 (ipykernel)",
   "language": "python",
   "name": "python3"
  },
  "language_info": {
   "codemirror_mode": {
    "name": "ipython",
    "version": 3
   },
   "file_extension": ".py",
   "mimetype": "text/x-python",
   "name": "python",
   "nbconvert_exporter": "python",
   "pygments_lexer": "ipython3",
   "version": "3.10.4"
  },
  "toc": {
   "base_numbering": 1,
   "nav_menu": {},
   "number_sections": true,
   "sideBar": true,
   "skip_h1_title": false,
   "title_cell": "Table of Contents",
   "title_sidebar": "Contents",
   "toc_cell": false,
   "toc_position": {},
   "toc_section_display": true,
   "toc_window_display": false
  }
 },
 "nbformat": 4,
 "nbformat_minor": 5
}
