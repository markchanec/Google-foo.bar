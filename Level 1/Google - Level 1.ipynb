{
 "cells": [
  {
   "cell_type": "code",
   "execution_count": 1,
   "id": "d2cb411c",
   "metadata": {
    "ExecuteTime": {
     "end_time": "2022-12-23T03:29:12.834034Z",
     "start_time": "2022-12-23T03:29:12.816804Z"
    }
   },
   "outputs": [],
   "source": [
    "#level 1 re-ID\n",
    "def solution(i):\n",
    "    string = \"\"\n",
    "    start = 2 #prime starts from 2\n",
    "    while True:\n",
    "        if all(start % j for j in range(2,start)): #find prime\n",
    "            string += str(start)\n",
    "            if len(string)>i + 5:   #max is 10_000 + next 5 digits\n",
    "                print(string[i:])\n",
    "                break\n",
    "        start +=1\n",
    "\n",
    "    new_ID = string[i:i+5]\n",
    "    print(new_ID)"
   ]
  },
  {
   "cell_type": "code",
   "execution_count": 2,
   "id": "8e25bf6e",
   "metadata": {
    "ExecuteTime": {
     "end_time": "2022-12-23T03:29:13.611371Z",
     "start_time": "2022-12-23T03:29:12.834602Z"
    }
   },
   "outputs": [
    {
     "name": "stdout",
     "output_type": "stream",
     "text": [
      "235711\n",
      "23571\n",
      "7111317\n",
      "71113\n",
      "021920231\n",
      "02192\n"
     ]
    }
   ],
   "source": [
    "solution(0)\n",
    "solution(3)\n",
    "solution(10_000)"
   ]
  }
 ],
 "metadata": {
  "kernelspec": {
   "display_name": "Python 3 (ipykernel)",
   "language": "python",
   "name": "python3"
  },
  "language_info": {
   "codemirror_mode": {
    "name": "ipython",
    "version": 3
   },
   "file_extension": ".py",
   "mimetype": "text/x-python",
   "name": "python",
   "nbconvert_exporter": "python",
   "pygments_lexer": "ipython3",
   "version": "3.10.4"
  },
  "toc": {
   "base_numbering": 1,
   "nav_menu": {},
   "number_sections": true,
   "sideBar": true,
   "skip_h1_title": false,
   "title_cell": "Table of Contents",
   "title_sidebar": "Contents",
   "toc_cell": false,
   "toc_position": {},
   "toc_section_display": true,
   "toc_window_display": false
  }
 },
 "nbformat": 4,
 "nbformat_minor": 5
}
